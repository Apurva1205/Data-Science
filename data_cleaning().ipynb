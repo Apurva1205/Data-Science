{
 "cells": [
  {
   "cell_type": "code",
   "execution_count": 1,
   "metadata": {},
   "outputs": [
    {
     "name": "stdout",
     "output_type": "stream",
     "text": [
      "Column 'B' does not exist in the input DataFrame.\n",
      "Column 'E' does not exist in the input DataFrame.\n"
     ]
    }
   ],
   "source": [
    "import pandas as pd\n",
    "\n",
    "def data_cleaning(df):\n",
    "    # Check if column 'B' exists in the DataFrame\n",
    "    if 'B' in df.columns:\n",
    "        # Replace values in column B\n",
    "        df['B'] = df['B'].apply(lambda x: x.capitalize() if x in ['jan', 'feb', 'mar', 'apr', 'may', 'jun', 'jul', 'aug', 'sep', 'oct', 'nov', 'dec'] else x)\n",
    "    else:\n",
    "        print(\"Column 'B' does not exist in the input DataFrame.\")\n",
    "\n",
    "    # Check if column 'Level 1' exists in the DataFrame\n",
    "    if 'Level 1' in df.columns:\n",
    "        # Calculate the \"inc/dec percentage\" column\n",
    "        df['inc/dec percentage'] = (df['Level 1'] - df['Level 4']) / df['Level 1'] * 100\n",
    "    else:\n",
    "        print(\"Column 'Level 1' does not exist in the input DataFrame.\")\n",
    "        \n",
    "    # Check if column 'Level 4' exists in the DataFrame\n",
    "    if 'Level 4' in df.columns:\n",
    "        pass # do nothing\n",
    "    else:\n",
    "        print(\"Column 'Level 4' does not exist in the input DataFrame.\")\n",
    "    \n",
    "    # Replace null values with the average of the respective column\n",
    "    df = df.fillna(df.mean())\n",
    "    \n",
    "    # Check if column 'E' exists in the DataFrame\n",
    "    if 'E' in df.columns:\n",
    "        # Replace values in column E\n",
    "        df['E'] = df['E'].apply(lambda x: 'From LinkedIn' if x == 'Came_From_LinkedIn' else ('Direct_traffic' if x == 'Landed_Directly' else x))\n",
    "    else:\n",
    "        print(\"Column 'E' does not exist in the input DataFrame.\")\n",
    "    \n",
    "    return df\n",
    "\n",
    "# Read the xlsx file into a Pandas DataFrame\n",
    "df = pd.read_excel('dataset.xlsx')\n",
    "\n",
    "# Clean the data\n",
    "df = data_cleaning(df)"
   ]
  },
  {
   "cell_type": "code",
   "execution_count": 2,
   "metadata": {},
   "outputs": [],
   "source": []
  },
  {
   "cell_type": "code",
   "execution_count": null,
   "metadata": {},
   "outputs": [],
   "source": []
  }
 ],
 "metadata": {
  "kernelspec": {
   "display_name": "Python 3",
   "language": "python",
   "name": "python3"
  },
  "language_info": {
   "codemirror_mode": {
    "name": "ipython",
    "version": 3
   },
   "file_extension": ".py",
   "mimetype": "text/x-python",
   "name": "python",
   "nbconvert_exporter": "python",
   "pygments_lexer": "ipython3",
   "version": "3.8.5"
  }
 },
 "nbformat": 4,
 "nbformat_minor": 4
}
