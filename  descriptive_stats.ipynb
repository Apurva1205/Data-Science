{
 "cells": [
  {
   "cell_type": "code",
   "execution_count": 12,
   "metadata": {},
   "outputs": [
    {
     "name": "stdout",
     "output_type": "stream",
     "text": [
      "Minimum value in Level columns: nan\n",
      "Maximum value of Level 2 (Desktop Website): nan\n"
     ]
    }
   ],
   "source": [
    "import pandas as pd\n",
    "\n",
    "def descriptive_stats(year=2020, month='Jan', laptop_desktop='Desktop', type_of_customers=None, coming_from=None):\n",
    "    # Load the dataset.xlxs file into a pandas dataframe\n",
    "    df = pd.read_excel(r'C:\\Users\\Shri.DESKTOP-3RITHQH\\Downloads\\dataset.xlsx')\n",
    "\n",
    "\n",
    "\n",
    "    \n",
    "    # Filter the dataframe based on the given parameters\n",
    "    if year:\n",
    "        df = df[df['Year'] == year]\n",
    "    if month:\n",
    "        df = df[df['Month'] == month]\n",
    "    if laptop_desktop:\n",
    "        df = df[df['Laptop/Desktop'] == laptop_desktop]\n",
    "    if type_of_customers:\n",
    "        df = df[df['Type_of_Customers?'] == type_of_customers]\n",
    "    if coming_from:\n",
    "        df = df[df['Coming from'] == coming_from]\n",
    "    \n",
    "    # Get the minimum value in all the level columns (Level 1, 2, 3, 4)\n",
    "    min_level = df[['Level 1', 'Level 2', 'Level 3', 'Level 4']].min().min()\n",
    "    \n",
    "    # Get the maximum value of Level 2 among customers who came directly via desktop website\n",
    "    max_level_2 = df[df['Coming from'] == 'Desktop Website']['Level 2'].max()\n",
    "    \n",
    "    # Get the summary statistics of all numerical columns in the filtered dataframe\n",
    "    num_cols = df.select_dtypes(include=['float', 'int']).columns\n",
    "    num_stats = df[num_cols].describe()\n",
    "    \n",
    "    # Get the unique values and data types in the non-numeric columns in the filtered dataframe\n",
    "    non_num_cols = df.select_dtypes(exclude=['float', 'int']).columns\n",
    "    non_num_vals = {col: df[col].unique() for col in non_num_cols}\n",
    "    non_num_dtypes = {col: df[col].dtype for col in non_num_cols}\n",
    "    \n",
    "    return {\n",
    "        'Minimum value in Level columns': min_level,\n",
    "        'Maximum value of Level 2 (Desktop Website)': max_level_2,\n",
    "        'Numerical columns summary statistics': num_stats,\n",
    "        'Unique values in non-numeric columns': non_num_vals,\n",
    "        'Data types in non-numeric columns': non_num_dtypes\n",
    "    }\n",
    "\n",
    "result = descriptive_stats()\n",
    "print('Minimum value in Level columns:', result['Minimum value in Level columns'])\n",
    "print('Maximum value of Level 2 (Desktop Website):', result['Maximum value of Level 2 (Desktop Website)'])\n"
   ]
  },
  {
   "cell_type": "code",
   "execution_count": null,
   "metadata": {},
   "outputs": [],
   "source": []
  }
 ],
 "metadata": {
  "kernelspec": {
   "display_name": "Python 3",
   "language": "python",
   "name": "python3"
  },
  "language_info": {
   "codemirror_mode": {
    "name": "ipython",
    "version": 3
   },
   "file_extension": ".py",
   "mimetype": "text/x-python",
   "name": "python",
   "nbconvert_exporter": "python",
   "pygments_lexer": "ipython3",
   "version": "3.8.5"
  }
 },
 "nbformat": 4,
 "nbformat_minor": 4
}
